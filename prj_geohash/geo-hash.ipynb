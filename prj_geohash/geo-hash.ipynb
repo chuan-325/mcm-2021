{
 "metadata": {
  "language_info": {
   "codemirror_mode": {
    "name": "ipython",
    "version": 3
   },
   "file_extension": ".py",
   "mimetype": "text/x-python",
   "name": "python",
   "nbconvert_exporter": "python",
   "pygments_lexer": "ipython3",
   "version": "3.7.9-final"
  },
  "orig_nbformat": 2,
  "kernelspec": {
   "name": "python3",
   "display_name": "Python 3.7.9 64-bit ('mcm37': conda)",
   "metadata": {
    "interpreter": {
     "hash": "0b9fffc60eb36ffec715c317c1d3ee2d93e510b8c3e089cb6f451442efa180ba"
    }
   }
  }
 },
 "nbformat": 4,
 "nbformat_minor": 2,
 "cells": [
  {
   "source": [
    "# 利用 GEOHASH 实现空间索引"
   ],
   "cell_type": "markdown",
   "metadata": {}
  },
  {
   "source": [
    "## 导入 Json 文件，提出 Multipolygon List"
   ],
   "cell_type": "markdown",
   "metadata": {}
  },
  {
   "cell_type": "code",
   "execution_count": 27,
   "metadata": {
    "tags": []
   },
   "outputs": [],
   "source": [
    "import geojson\n",
    "vbList=[[[2]]]\n",
    "with open('../data/victoria.geojson') as vbJson:\n",
    "    vbList = geojson.load(vbJson).geometries[0].coordinates\n",
    "    "
   ]
  },
  {
   "source": [
    "## 识别列表中的单个 polygon ，并绘图验证"
   ],
   "cell_type": "markdown",
   "metadata": {}
  },
  {
   "cell_type": "code",
   "execution_count": null,
   "metadata": {},
   "outputs": [],
   "source": [
    "num_polygon = len(vbList)\n",
    "# polygons: vbList[i][0]=[[2]], i in range(num_polygon)\n",
    "import matplotlib.pyplot as matplt\n",
    "matplt.figure(dpi=200)\n",
    "for i in range(num_polygon):\n",
    "    xList=[]\n",
    "    yList=[]\n",
    "    num_point = len(vbList[i][0])\n",
    "    for j in range(num_point):\n",
    "        xList.append(vbList[i][0][j][0])\n",
    "        yList.append(vbList[i][0][j][1])\n",
    "    matplt.plot(xList, yList, lw=0.1)\n",
    "matplt.show()\n"
   ]
  },
  {
   "source": [
    "## 使用 geohash 的第三方库进行计算"
   ],
   "cell_type": "markdown",
   "metadata": {}
  },
  {
   "cell_type": "code",
   "execution_count": 4,
   "metadata": {},
   "outputs": [],
   "source": [
    "import pygeohash as pgh\n"
   ]
  },
  {
   "cell_type": "code",
   "execution_count": null,
   "metadata": {},
   "outputs": [],
   "source": []
  }
 ]
}