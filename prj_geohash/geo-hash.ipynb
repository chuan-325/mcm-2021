{
 "metadata": {
  "language_info": {
   "codemirror_mode": {
    "name": "ipython",
    "version": 3
   },
   "file_extension": ".py",
   "mimetype": "text/x-python",
   "name": "python",
   "nbconvert_exporter": "python",
   "pygments_lexer": "ipython3",
   "version": "3.7.9-final"
  },
  "orig_nbformat": 2,
  "kernelspec": {
   "name": "python3",
   "display_name": "Python 3.7.9 64-bit ('mcm37': conda)",
   "metadata": {
    "interpreter": {
     "hash": "0b9fffc60eb36ffec715c317c1d3ee2d93e510b8c3e089cb6f451442efa180ba"
    }
   }
  }
 },
 "nbformat": 4,
 "nbformat_minor": 2,
 "cells": [
  {
   "source": [
    "# 利用 GEOHASH 算法的第三方库 pygeohash 实现空间分块索引"
   ],
   "cell_type": "markdown",
   "metadata": {}
  },
  {
   "cell_type": "code",
   "execution_count": 128,
   "metadata": {},
   "outputs": [],
   "source": [
    "import geojson\n",
    "import numpy as np\n",
    "import pygeohash as pgh\n",
    "import matplotlib.pyplot as matplt\n",
    "\n"
   ]
  },
  {
   "source": [
    "## 导入 Json 文件，提出 Multipolygon List"
   ],
   "cell_type": "markdown",
   "metadata": {}
  },
  {
   "cell_type": "code",
   "execution_count": 129,
   "metadata": {
    "tags": []
   },
   "outputs": [],
   "source": [
    "vbList=[[[]]]\n",
    "with open('../data/victoria.geojson') as vbJson:\n",
    "    vbList = geojson.load(vbJson).geometries[0].coordinates\n",
    "    "
   ]
  },
  {
   "source": [
    "## 分立存储 polygon"
   ],
   "cell_type": "markdown",
   "metadata": {}
  },
  {
   "cell_type": "code",
   "execution_count": 130,
   "metadata": {},
   "outputs": [],
   "source": [
    "num_polygon = len(vbList)\n",
    "# polygons: vbList[i][0]=[[]], i in range(num_polygon)\n",
    "\n",
    "polygon_cdnts = []\n",
    "\n",
    "for i in range(num_polygon):\n",
    "    polygon_cdnts.append(vbList[i][0])"
   ]
  },
  {
   "source": [
    "## 对一个 polygon ，分离 lon, lat, idx 列表"
   ],
   "cell_type": "markdown",
   "metadata": {}
  },
  {
   "cell_type": "code",
   "execution_count": 131,
   "metadata": {},
   "outputs": [],
   "source": [
    "polygon_lat = []\n",
    "polygon_lon = []\n",
    "polygon_idx = []\n",
    "for i in range(len(polygon_cdnts)):\n",
    "    xList = []\n",
    "    yList = []\n",
    "    pList = []\n",
    "    for j in range(len(polygon_cdnts[i])):\n",
    "        xList.append(polygon_cdnts[i][j][0])\n",
    "        yList.append(polygon_cdnts[i][j][1])\n",
    "        pList.append(pgh.encode(yList[j], xList[j]))\n",
    "    polygon_lat.append(yList)\n",
    "    polygon_lon.append(xList)\n",
    "    polygon_idx.append(pList)\n"
   ]
  },
  {
   "cell_type": "code",
   "execution_count": 140,
   "metadata": {},
   "outputs": [],
   "source": [
    "## 单块 polygon 地图画布 (board) 精细分域与反编码"
   ]
  },
  {
   "source": [
    "def div_board(latlist, lonlist):\n",
    "    # 获取最值\n",
    "    latmax = np.max(latlist)\n",
    "    latmin = np.min(latlist)    \n",
    "    lonmax = np.max(lonlist)\n",
    "    lonmin = np.min(lonlist)\n",
    "    # 枚举划分/步长：\n",
    "    accu = 0.1\n",
    "    board_lat = []\n",
    "    board_lon = []\n",
    "    board_idx = []\n",
    "    # 存储所有划分的出来的区域的编码\n",
    "    for i in np.arange(latmin, latmax, accu):\n",
    "        for j in np.arange(lonmin, lonmax, accu):\n",
    "            c = pgh.encode(i, j)\n",
    "            a,b = pgh.decode(c)\n",
    "            board_lat.append(a)\n",
    "            board_lon.append(b)\n",
    "            board_idx.append(c)\n",
    "    return board_lon, board_lat, board_idx\n",
    "\n"
   ],
   "cell_type": "markdown",
   "metadata": {}
  },
  {
   "cell_type": "code",
   "execution_count": null,
   "metadata": {},
   "outputs": [],
   "source": [
    "def get_geolonlat_zt(total):\n",
    "    new_total=[]  # 全部的多级编码\n",
    "    block_dict = {}\n",
    "    central_dict = {}\n",
    "    for i in total:     # 得到的前n位全部的编码\n",
    "        new_total.append(i[:5])  # 只能取4个\n",
    "    new_total = list(set(new_total))  # 得到编码的个数\n",
    "    new_total_lonlat = []\n",
    "    for block in new_total:\n",
    "        lat_zt, lon_zt = get_lonlat(block)\n",
    "        new_total_lonlat.append([lon_zt, lat_zt])\n",
    "    return new_total_lonlat\n",
    "\n",
    "def match_zt(total):\n",
    "    new_total_lonlat = get_geolonlat_zt(total)\n",
    "    all_centralpoint = new_total_lonlat\n",
    "    new_total_lon = []\n",
    "    new_total_lat = []\n",
    "    for point in all_centralpoint:\n",
    "        new_total_lon.append(point[0])\n",
    "        new_total_lat.append(point[1])\n",
    "    return all_centralpoint, new_total_lon,new_total_lat"
   ]
  },
  {
   "source": [
    "## 对三块区域均进行粗分域"
   ],
   "cell_type": "markdown",
   "metadata": {}
  },
  {
   "cell_type": "code",
   "execution_count": null,
   "metadata": {},
   "outputs": [],
   "source": [
    "for i in range(len(polygon_cdnts)):\n",
    "    tlon, tlat, tidx = div_board(polygon_lat[i], polygon_lon[i])"
   ]
  },
  {
   "source": [
    "## 草稿"
   ],
   "cell_type": "markdown",
   "metadata": {}
  },
  {
   "cell_type": "code",
   "execution_count": null,
   "metadata": {},
   "outputs": [],
   "source": [
    "matplt.figure(dpi=200)\n",
    "matplt.plot(tlon, tlat, lw=0.1)\n",
    "matplt.show()"
   ]
  }
 ]
}